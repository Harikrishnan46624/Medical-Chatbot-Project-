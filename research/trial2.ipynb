{
 "cells": [
  {
   "cell_type": "code",
   "execution_count": 2,
   "metadata": {},
   "outputs": [
    {
     "name": "stderr",
     "output_type": "stream",
     "text": [
      "C:\\Users\\harik\\AppData\\Local\\Packages\\PythonSoftwareFoundation.Python.3.11_qbz5n2kfra8p0\\LocalCache\\local-packages\\Python311\\site-packages\\torch\\_utils.py:831: UserWarning: TypedStorage is deprecated. It will be removed in the future and UntypedStorage will be the only storage class. This should only matter to you if you are using storages directly.  To access UntypedStorage directly, use tensor.untyped_storage() instead of tensor.storage()\n",
      "  return self.fget.__get__(instance, owner)()\n"
     ]
    },
    {
     "name": "stdout",
     "output_type": "stream",
     "text": [
      "[Document(page_content='The reasons why immune systems become dys-', metadata={'source': 'E:\\\\projects\\\\Medical-Chatbot-Project-\\\\data\\\\Medical_book.pdf', 'page': 436}), Document(page_content='the cause of an infection some-where else in the person’s body.', metadata={'source': 'E:\\\\projects\\\\Medical-Chatbot-Project-\\\\data\\\\Medical_book.pdf', 'page': 537}), Document(page_content='especially significant in a person who already has anoth-er illness or infection, is hospitalized, or has troublefighting infections because of a weak immune system.Often, the blood infection results from an infectionsomewhere else in the body that has now spread.\\nAdditionally, blood cultures are done to find the\\ncauses of other infections. These include bacterial pneu-\\nmonia (an infection of the lung), and infectious endo-\\ncarditis (an infection of the inner layer of the heart).', metadata={'source': 'E:\\\\projects\\\\Medical-Chatbot-Project-\\\\data\\\\Medical_book.pdf', 'page': 535})]\n"
     ]
    }
   ],
   "source": [
    "from langchain_community.vectorstores import FAISS\n",
    "from langchain_community.embeddings import HuggingFaceEmbeddings\n",
    "\n",
    "def download_hugging_face_embeddings():\n",
    "    embeddings = HuggingFaceEmbeddings(model_name='sentence-transformers/all-MiniLM-L6-v2')\n",
    "    return embeddings\n",
    "\n",
    "\n",
    "embeddings = download_hugging_face_embeddings()\n",
    "\n",
    "db = FAISS.load_local(\"vectorstore/db_faiss\", embeddings=embeddings)\n",
    "\n",
    "# Encode your query text\n",
    "query_text = \"What cause jontis\"\n",
    "\n",
    "docs=db.similarity_search(query_text, k=3)\n",
    "print(docs)"
   ]
  },
  {
   "cell_type": "code",
   "execution_count": null,
   "metadata": {},
   "outputs": [],
   "source": []
  }
 ],
 "metadata": {
  "kernelspec": {
   "display_name": "Python 3",
   "language": "python",
   "name": "python3"
  },
  "language_info": {
   "codemirror_mode": {
    "name": "ipython",
    "version": 3
   },
   "file_extension": ".py",
   "mimetype": "text/x-python",
   "name": "python",
   "nbconvert_exporter": "python",
   "pygments_lexer": "ipython3",
   "version": "3.11.7"
  }
 },
 "nbformat": 4,
 "nbformat_minor": 2
}
